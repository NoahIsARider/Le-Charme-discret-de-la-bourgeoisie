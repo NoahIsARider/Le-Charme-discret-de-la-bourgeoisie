# 导入必要的库
import openai
import os

# 设置 OpenAI API 密钥
# 注意：请将 YOUR_API_KEY 替换为您的 OpenAI API 密钥
openai.api_key = "YOUR_API_KEY"

# 定义一个函数，用于调用 OpenAI 的 GPT 模型
def call_openai_api(prompt, model="gpt-3.5-turbo", max_tokens=150, temperature=0.7):
    """
    调用 OpenAI API 进行文本生成。
    
    参数:
        prompt (str): 输入的提示文本。
        model (str): 使用的模型，默认为 "gpt-3.5-turbo"。
        max_tokens (int): 生成的最大 token 数量，默认为 150。
        temperature (float): 控制生成文本的随机性，默认为 0.7。
    
    返回:
        str: 生成的文本。
    """
    try:
        response = openai.ChatCompletion.create(
            model=model,
            messages=[
                {"role": "system", "content": "你是一个有帮助的助手。"},
                {"role": "user", "content": prompt}
            ],
            max_tokens=max_tokens,
            temperature=temperature
        )
        return response.choices[0].message.content.strip()
    except Exception as e:
        return f"发生错误：{e}"

# 测试 OpenAI API 调用
if __name__ == "__main__":
    # 输入提示文本
    user_prompt = input("请输入您的问题或提示：")
    
    # 调用 API 并获取响应
    response = call_openai_api(user_prompt)
    
    # 打印生成的文本
    print("\n生成的文本：")
    print(response)
