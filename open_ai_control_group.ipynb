{
  "cells": [
    {
      "cell_type": "code",
      "source": [
        "import gradio as gr\n",
        "from transformers import AutoModelForCausalLM, AutoTokenizer\n",
        "import torch\n",
        "from peft import PeftModel\n",
        "\n",
        "def modelscope_quickstart(prompt):\n",
        "    model_path = 'Meta-Llama-3.1-8B-Instruct'\n",
        "    lora_path = './output/llama3_1_instruct_lora/checkpoint-18'\n",
        "\n",
        "    # 加载 tokenizer 和模型\n",
        "    tokenizer = AutoTokenizer.from_pretrained(model_path, trust_remote_code=False)\n",
        "    model = AutoModelForCausalLM.from_pretrained(model_path, torch_dtype=torch.float32, trust_remote_code=False).eval()\n",
        "    model = PeftModel.from_pretrained(model, model_id=lora_path)\n",
        "\n",
        "    # 将模型和数据移动到可用设备（GPU 或 CPU）\n",
        "    device = torch.device(\"cuda\" if torch.cuda.is_available() else \"cpu\")\n",
        "    model.to(device)\n",
        "\n",
        "    messages = [\n",
        "        {\"role\": \"system\", \"content\": \"假设你是一位政治哲学评论家\"},\n",
        "        {\"role\": \"user\", \"content\": prompt}\n",
        "    ]\n",
        "\n",
        "    input_ids = tokenizer.apply_chat_template(messages, tokenize=False, add_generation_prompt=True)\n",
        "    model_inputs = tokenizer([input_ids], return_tensors=\"pt\").to(device)\n",
        "    generated_ids = model.generate(model_inputs.input_ids, max_new_tokens=512)\n",
        "\n",
        "    generated_ids = [output_ids[len(input_ids):] for input_ids, output_ids in zip(model_inputs.input_ids, generated_ids)]\n",
        "    response = tokenizer.batch_decode(generated_ids, skip_special_tokens=True)[0]\n",
        "    return response\n",
        "\n",
        "demo = gr.Interface(fn=modelscope_quickstart, inputs=\"text\", outputs=\"text\")\n",
        "demo.launch()"
      ],
      "metadata": {},
      "outputs": []
    },
    {
      "cell_type": "markdown",
      "source": [
        "### 说明\n",
        "1. 确保您已安装 `gradio`, `transformers`, `torch`, 和 `peft` 库。\n",
        "2. 确保模型路径和 LoRA 路径正确。\n",
        "3. 运行此 Notebook 后，Gradio 接口将启动，您可以通过浏览器访问并输入文本进行测试。"
      ],
      "metadata": {}
    }
  ],
  "metadata": {
    "kernelspec": {
      "display_name": "Python 3",
      "language": "python",
      "name": "python3"
    },
    "language_info": {
      "name": "python",
      "version": "3.8.10",
      "mimetype": "text/x-python",
      "file_extension": ".py",
      "pygments_lexer": "ipython3",
      "codemirror_mode": {
        "name": "ipython",
        "version": 3
      },
      "nbconvert_exporter": "python"
    }
  },
  "nbformat": 4,
  "nbformat_minor": 4
}
